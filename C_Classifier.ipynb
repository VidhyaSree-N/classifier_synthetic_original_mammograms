{
 "cells": [
  {
   "cell_type": "code",
   "execution_count": 11,
   "id": "35368029",
   "metadata": {},
   "outputs": [],
   "source": [
    "import os\n",
    "import numpy as np\n",
    "import keras\n",
    "from sklearn.model_selection import train_test_split\n",
    "import tensorflow as tf\n",
    "from tensorflow.keras import layers, models\n",
    "from keras.callbacks import EarlyStopping"
   ]
  },
  {
   "cell_type": "code",
   "execution_count": 2,
   "id": "a7e070b9",
   "metadata": {},
   "outputs": [],
   "source": [
    "cancer_folder = '/raid/mpsych/OMAMA/DATA/data/2d_512_cancer'\n",
    "noncancer_folder = '/raid/mpsych/OMAMA/DATA/data/2d_512_Noncancer'\n",
    "\n",
    "cancer_files = [os.path.join(cancer_folder, f) for f in os.listdir(cancer_folder) if f.endswith('.npz')]\n",
    "noncancer_files = [os.path.join(noncancer_folder, f) for f in os.listdir(noncancer_folder) if f.endswith('.npz')]\n",
    "noncancer_files = noncancer_files[:7351]"
   ]
  },
  {
   "cell_type": "code",
   "execution_count": 3,
   "id": "29f58cee",
   "metadata": {},
   "outputs": [
    {
     "data": {
      "text/plain": [
       "7351"
      ]
     },
     "execution_count": 3,
     "metadata": {},
     "output_type": "execute_result"
    }
   ],
   "source": [
    "len(cancer_files)"
   ]
  },
  {
   "cell_type": "code",
   "execution_count": 4,
   "id": "3004e145",
   "metadata": {},
   "outputs": [
    {
     "data": {
      "text/plain": [
       "7351"
      ]
     },
     "execution_count": 4,
     "metadata": {},
     "output_type": "execute_result"
    }
   ],
   "source": [
    "len(noncancer_files)"
   ]
  },
  {
   "cell_type": "code",
   "execution_count": 5,
   "id": "cb69ee88",
   "metadata": {},
   "outputs": [],
   "source": [
    "def load_data(file_paths):\n",
    "    data = []\n",
    "    for file_path in file_paths:\n",
    "        with np.load(file_path) as data_file:\n",
    "            data.append(data_file['data'])\n",
    "    return np.array(data)\n"
   ]
  },
  {
   "cell_type": "code",
   "execution_count": 6,
   "id": "c75012cd",
   "metadata": {},
   "outputs": [],
   "source": [
    "cancer_data = load_data(cancer_files)\n",
    "noncancer_data = load_data(noncancer_files)"
   ]
  },
  {
   "cell_type": "code",
   "execution_count": 7,
   "id": "66378e4a",
   "metadata": {},
   "outputs": [],
   "source": [
    "# Assign labels (1 for cancer, 0 for non-cancer)\n",
    "cancer_labels = np.ones(len(cancer_data))\n",
    "noncancer_labels = np.zeros(len(noncancer_data))\n",
    "\n",
    "# Concatenate data and labels\n",
    "X = np.concatenate((cancer_data, noncancer_data))\n",
    "y = np.concatenate((cancer_labels, noncancer_labels))\n",
    "\n",
    "X = np.expand_dims(X, axis=-1)\n",
    "X_train, X_test, y_train, y_test = train_test_split(X, y, test_size=0.2, random_state=42)"
   ]
  },
  {
   "cell_type": "code",
   "execution_count": 12,
   "id": "b5902981",
   "metadata": {},
   "outputs": [],
   "source": [
    "# Define early stopping callback\n",
    "early_stopping = EarlyStopping(monitor='val_loss', patience=3, restore_best_weights=True)"
   ]
  },
  {
   "cell_type": "code",
   "execution_count": 13,
   "id": "25a5aff9",
   "metadata": {},
   "outputs": [],
   "source": [
    "model = models.Sequential([\n",
    "    layers.Conv2D(32, (3, 3), activation='relu', input_shape=(512, 512, 1)),\n",
    "    layers.MaxPooling2D((2, 2)),\n",
    "    layers.Conv2D(64, (3, 3), activation='relu'),\n",
    "    layers.MaxPooling2D((2, 2)),\n",
    "    layers.Conv2D(64, (3, 3), activation='relu'),\n",
    "    layers.Flatten(),\n",
    "    layers.Dropout(0.5),\n",
    "    layers.Dense(64, activation='relu'),\n",
    "    layers.Dense(1, activation='sigmoid')\n",
    "])"
   ]
  },
  {
   "cell_type": "code",
   "execution_count": 14,
   "id": "6ed4668d",
   "metadata": {},
   "outputs": [],
   "source": [
    "# Compile the model\n",
    "model.compile(optimizer='adam',\n",
    "              loss='binary_crossentropy',\n",
    "              metrics=['accuracy'])"
   ]
  },
  {
   "cell_type": "code",
   "execution_count": 16,
   "id": "a7f53027",
   "metadata": {},
   "outputs": [
    {
     "name": "stdout",
     "output_type": "stream",
     "text": [
      "Epoch 1/15\n",
      "368/368 [==============================] - 17s 45ms/step - loss: 0.4131 - accuracy: 0.7525 - val_loss: 1.3145 - val_accuracy: 0.5675\n",
      "Epoch 2/15\n",
      "368/368 [==============================] - 16s 44ms/step - loss: 0.4035 - accuracy: 0.7624 - val_loss: 1.4447 - val_accuracy: 0.5695\n",
      "Epoch 3/15\n",
      "368/368 [==============================] - 16s 43ms/step - loss: 0.3907 - accuracy: 0.7658 - val_loss: 1.5283 - val_accuracy: 0.5719\n",
      "Epoch 4/15\n",
      "368/368 [==============================] - 16s 43ms/step - loss: 0.3843 - accuracy: 0.7720 - val_loss: 1.5858 - val_accuracy: 0.5753\n",
      "Epoch 5/15\n",
      "368/368 [==============================] - 16s 44ms/step - loss: 0.3895 - accuracy: 0.7759 - val_loss: 1.6216 - val_accuracy: 0.5723\n",
      "Epoch 6/15\n",
      "368/368 [==============================] - 16s 44ms/step - loss: 0.3689 - accuracy: 0.7835 - val_loss: 1.4816 - val_accuracy: 0.5723\n",
      "Epoch 7/15\n",
      "368/368 [==============================] - 16s 44ms/step - loss: 0.3775 - accuracy: 0.7830 - val_loss: 1.6915 - val_accuracy: 0.5750\n",
      "Epoch 8/15\n",
      "368/368 [==============================] - 16s 44ms/step - loss: 0.3614 - accuracy: 0.7896 - val_loss: 2.0279 - val_accuracy: 0.5763\n",
      "Epoch 9/15\n",
      "368/368 [==============================] - 16s 43ms/step - loss: 0.3620 - accuracy: 0.7932 - val_loss: 1.7102 - val_accuracy: 0.5716\n",
      "Epoch 10/15\n",
      "368/368 [==============================] - 16s 44ms/step - loss: 0.3589 - accuracy: 0.7961 - val_loss: 1.9761 - val_accuracy: 0.5743\n",
      "Epoch 11/15\n",
      "368/368 [==============================] - 16s 43ms/step - loss: 0.3511 - accuracy: 0.7959 - val_loss: 1.8647 - val_accuracy: 0.5648\n",
      "Epoch 12/15\n",
      "368/368 [==============================] - 16s 44ms/step - loss: 0.3532 - accuracy: 0.8017 - val_loss: 1.7727 - val_accuracy: 0.5699\n",
      "Epoch 13/15\n",
      "368/368 [==============================] - 16s 43ms/step - loss: 0.3453 - accuracy: 0.8059 - val_loss: 1.4487 - val_accuracy: 0.5712\n",
      "Epoch 14/15\n",
      "368/368 [==============================] - 16s 44ms/step - loss: 0.3282 - accuracy: 0.8153 - val_loss: 1.6816 - val_accuracy: 0.5699\n",
      "Epoch 15/15\n",
      "368/368 [==============================] - 16s 44ms/step - loss: 0.3238 - accuracy: 0.8156 - val_loss: 1.7971 - val_accuracy: 0.5624\n"
     ]
    },
    {
     "data": {
      "text/plain": [
       "<tensorflow.python.keras.callbacks.History at 0x7efba07e9250>"
      ]
     },
     "execution_count": 16,
     "metadata": {},
     "output_type": "execute_result"
    }
   ],
   "source": [
    "# Train the model\n",
    "model.fit(X_train, y_train, epochs=15, batch_size=32, validation_data=(X_test, y_test))"
   ]
  },
  {
   "cell_type": "code",
   "execution_count": 17,
   "id": "19a38fbc",
   "metadata": {},
   "outputs": [
    {
     "name": "stdout",
     "output_type": "stream",
     "text": [
      "92/92 [==============================] - 1s 16ms/step - loss: 1.7971 - accuracy: 0.5624\n",
      "Test Accuracy: 0.5623937249183655\n",
      "True Label: 0.0 Predicted Label: 0.0\n",
      "True Label: 0.0 Predicted Label: 0.0\n",
      "True Label: 1.0 Predicted Label: 0.0\n",
      "True Label: 0.0 Predicted Label: 0.0\n",
      "True Label: 0.0 Predicted Label: 1.0\n",
      "True Label: 1.0 Predicted Label: 1.0\n",
      "True Label: 0.0 Predicted Label: 0.0\n",
      "True Label: 1.0 Predicted Label: 1.0\n",
      "True Label: 1.0 Predicted Label: 1.0\n",
      "True Label: 1.0 Predicted Label: 0.0\n",
      "True Label: 1.0 Predicted Label: 1.0\n",
      "True Label: 0.0 Predicted Label: 0.0\n",
      "True Label: 0.0 Predicted Label: 0.0\n",
      "True Label: 0.0 Predicted Label: 0.0\n",
      "True Label: 0.0 Predicted Label: 0.0\n",
      "True Label: 0.0 Predicted Label: 0.0\n",
      "True Label: 0.0 Predicted Label: 0.0\n",
      "True Label: 0.0 Predicted Label: 0.0\n",
      "True Label: 1.0 Predicted Label: 1.0\n",
      "True Label: 0.0 Predicted Label: 0.0\n",
      "True Label: 1.0 Predicted Label: 1.0\n",
      "True Label: 0.0 Predicted Label: 0.0\n",
      "True Label: 0.0 Predicted Label: 0.0\n",
      "True Label: 0.0 Predicted Label: 1.0\n",
      "True Label: 0.0 Predicted Label: 0.0\n",
      "True Label: 1.0 Predicted Label: 1.0\n",
      "True Label: 0.0 Predicted Label: 0.0\n",
      "True Label: 0.0 Predicted Label: 0.0\n",
      "True Label: 1.0 Predicted Label: 1.0\n",
      "True Label: 0.0 Predicted Label: 1.0\n"
     ]
    }
   ],
   "source": [
    "# Make predictions\n",
    "predictions = model.predict(X_test)\n",
    "\n",
    "# Convert probabilities to binary predictions\n",
    "binary_predictions = np.round(predictions).flatten()\n",
    "\n",
    "# Evaluate the model\n",
    "test_loss, test_acc = model.evaluate(X_test, y_test)\n",
    "print(\"Test Accuracy:\", test_acc)\n",
    "\n",
    "# Print some sample predictions\n",
    "for i in range(30):\n",
    "    print(\"True Label:\", y_test[i], \"Predicted Label:\", binary_predictions[i])\n"
   ]
  },
  {
   "cell_type": "code",
   "execution_count": null,
   "id": "fe5cc336",
   "metadata": {},
   "outputs": [],
   "source": []
  }
 ],
 "metadata": {
  "kernelspec": {
   "display_name": "Python 3 (ipykernel)",
   "language": "python",
   "name": "python3"
  },
  "language_info": {
   "codemirror_mode": {
    "name": "ipython",
    "version": 3
   },
   "file_extension": ".py",
   "mimetype": "text/x-python",
   "name": "python",
   "nbconvert_exporter": "python",
   "pygments_lexer": "ipython3",
   "version": "3.9.7"
  }
 },
 "nbformat": 4,
 "nbformat_minor": 5
}
