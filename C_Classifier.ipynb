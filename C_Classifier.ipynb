{
 "cells": [
  {
   "cell_type": "code",
   "execution_count": 1,
   "id": "35368029",
   "metadata": {},
   "outputs": [
    {
     "name": "stderr",
     "output_type": "stream",
     "text": [
      "2024-04-26 18:42:42.803113: I tensorflow/stream_executor/platform/default/dso_loader.cc:53] Successfully opened dynamic library libcudart.so.11.0\n"
     ]
    }
   ],
   "source": [
    "import os\n",
    "import numpy as np\n",
    "import keras\n",
    "from sklearn.model_selection import train_test_split\n",
    "import tensorflow as tf\n",
    "from tensorflow.keras import layers, models\n",
    "from keras.callbacks import EarlyStopping"
   ]
  },
  {
   "cell_type": "code",
   "execution_count": 2,
   "id": "a7e070b9",
   "metadata": {},
   "outputs": [],
   "source": [
    "cancer_folder = '/raid/mpsych/OMAMA/DATA/data/2d_512_cancer'\n",
    "noncancer_folder = '/raid/mpsych/OMAMA/DATA/data/2d_512_Noncancer'\n",
    "\n",
    "cancer_files = [os.path.join(cancer_folder, f) for f in os.listdir(cancer_folder) if f.endswith('.npz')]\n",
    "noncancer_files = [os.path.join(noncancer_folder, f) for f in os.listdir(noncancer_folder) if f.endswith('.npz')]\n",
    "noncancer_files = noncancer_files[:7351]"
   ]
  },
  {
   "cell_type": "code",
   "execution_count": 3,
   "id": "29f58cee",
   "metadata": {},
   "outputs": [
    {
     "data": {
      "text/plain": [
       "7351"
      ]
     },
     "execution_count": 3,
     "metadata": {},
     "output_type": "execute_result"
    }
   ],
   "source": [
    "len(cancer_files)"
   ]
  },
  {
   "cell_type": "code",
   "execution_count": 4,
   "id": "3004e145",
   "metadata": {},
   "outputs": [
    {
     "data": {
      "text/plain": [
       "7351"
      ]
     },
     "execution_count": 4,
     "metadata": {},
     "output_type": "execute_result"
    }
   ],
   "source": [
    "len(noncancer_files)"
   ]
  },
  {
   "cell_type": "code",
   "execution_count": 5,
   "id": "cb69ee88",
   "metadata": {},
   "outputs": [],
   "source": [
    "def load_data(file_paths):\n",
    "    data = []\n",
    "    for file_path in file_paths:\n",
    "        with np.load(file_path) as data_file:\n",
    "            data.append(data_file['data'])\n",
    "    return np.array(data)\n"
   ]
  },
  {
   "cell_type": "code",
   "execution_count": 6,
   "id": "ecf3393e",
   "metadata": {},
   "outputs": [],
   "source": [
    "def load_data(file_paths):\n",
    "    data = []\n",
    "    for file_path in file_paths:\n",
    "        with np.load(file_path) as data_file:\n",
    "            # Load image data\n",
    "            img_data = data_file['data']\n",
    "            # Normalize image data to the range [0, 1]\n",
    "            max_val = np.max(img_data)\n",
    "            if max_val > 0:\n",
    "                img_data = img_data / max_val\n",
    "            data.append(img_data)\n",
    "    return np.array(data)"
   ]
  },
  {
   "cell_type": "code",
   "execution_count": 28,
   "id": "4ef6d111",
   "metadata": {},
   "outputs": [],
   "source": [
    "def load_data(file_paths):\n",
    "    data = []\n",
    "    for file_path in file_paths:\n",
    "        with np.load(file_path) as data_file:\n",
    "            # Load image data\n",
    "            img_data = data_file['data']\n",
    "            # Z-score normalization\n",
    "            mean = np.mean(img_data)\n",
    "            std = np.std(img_data)\n",
    "            img_data = (img_data - mean) / std\n",
    "            data.append(img_data)\n",
    "    return np.array(data)"
   ]
  },
  {
   "cell_type": "code",
   "execution_count": 31,
   "id": "c75012cd",
   "metadata": {},
   "outputs": [],
   "source": [
    "cancer_data = load_data(cancer_files)\n",
    "noncancer_data = load_data(noncancer_files)"
   ]
  },
  {
   "cell_type": "code",
   "execution_count": 32,
   "id": "66378e4a",
   "metadata": {},
   "outputs": [],
   "source": [
    "# cancer_data = cancer_data / np.max(cancer_data)\n",
    "# noncancer_data = noncancer_data / np.max(noncancer_data)\n",
    "\n",
    "# Assign labels (1 for cancer, 0 for non-cancer)\n",
    "cancer_labels = np.ones(len(cancer_data))\n",
    "noncancer_labels = np.zeros(len(noncancer_data))\n",
    "\n",
    "# Concatenate data and labels\n",
    "X = np.concatenate((cancer_data, noncancer_data))\n",
    "y = np.concatenate((cancer_labels, noncancer_labels))\n",
    "X = np.expand_dims(X, axis=-1)\n",
    "X_train, X_test, y_train, y_test = train_test_split(X, y, test_size=0.2, random_state=42)"
   ]
  },
  {
   "cell_type": "code",
   "execution_count": 9,
   "id": "c8a4b454",
   "metadata": {},
   "outputs": [
    {
     "data": {
      "text/plain": [
       "11761"
      ]
     },
     "execution_count": 9,
     "metadata": {},
     "output_type": "execute_result"
    }
   ],
   "source": [
    "len(X_train)"
   ]
  },
  {
   "cell_type": "code",
   "execution_count": 10,
   "id": "4b115973",
   "metadata": {},
   "outputs": [
    {
     "data": {
      "text/plain": [
       "2941"
      ]
     },
     "execution_count": 10,
     "metadata": {},
     "output_type": "execute_result"
    }
   ],
   "source": [
    "len(X_test)"
   ]
  },
  {
   "cell_type": "code",
   "execution_count": 11,
   "id": "0b6a2b05",
   "metadata": {},
   "outputs": [
    {
     "data": {
      "text/plain": [
       "11761"
      ]
     },
     "execution_count": 11,
     "metadata": {},
     "output_type": "execute_result"
    }
   ],
   "source": [
    "len(y_train)"
   ]
  },
  {
   "cell_type": "code",
   "execution_count": 12,
   "id": "afcd2203",
   "metadata": {},
   "outputs": [],
   "source": [
    "first_image = X_train[100]\n",
    "first_label = y_train[100]"
   ]
  },
  {
   "cell_type": "code",
   "execution_count": 13,
   "id": "c8e7587a",
   "metadata": {},
   "outputs": [
    {
     "name": "stdout",
     "output_type": "stream",
     "text": [
      "Populating the interactive namespace from numpy and matplotlib\n"
     ]
    },
    {
     "data": {
      "text/plain": [
       "<matplotlib.image.AxesImage at 0x7fdabaf55790>"
      ]
     },
     "execution_count": 13,
     "metadata": {},
     "output_type": "execute_result"
    },
    {
     "data": {
      "image/png": "[encoded data removed]",
      "text/plain": [
       "<Figure size 432x288 with 1 Axes>"
      ]
     },
     "metadata": {
      "needs_background": "light"
     },
     "output_type": "display_data"
    }
   ],
   "source": [
    "%pylab inline\n",
    "imshow(first_image, cmap='gray')"
   ]
  },
  {
   "cell_type": "code",
   "execution_count": 14,
   "id": "929ab656",
   "metadata": {},
   "outputs": [
    {
     "data": {
      "text/plain": [
       "1.0"
      ]
     },
     "execution_count": 14,
     "metadata": {},
     "output_type": "execute_result"
    }
   ],
   "source": [
    "first_label"
   ]
  },
  {
   "cell_type": "code",
   "execution_count": 15,
   "id": "aee12bce",
   "metadata": {},
   "outputs": [
    {
     "data": {
      "text/plain": [
       "(512, 512, 1)"
      ]
     },
     "execution_count": 15,
     "metadata": {},
     "output_type": "execute_result"
    }
   ],
   "source": [
    "first_image.shape"
   ]
  },
  {
   "cell_type": "code",
   "execution_count": 33,
   "id": "97cb20ff",
   "metadata": {},
   "outputs": [
    {
     "data": {
      "text/plain": [
       "1.0"
      ]
     },
     "execution_count": 33,
     "metadata": {},
     "output_type": "execute_result"
    }
   ],
   "source": [
    "first_image.max()"
   ]
  },
  {
   "cell_type": "code",
   "execution_count": 34,
   "id": "5f8172d5",
   "metadata": {},
   "outputs": [
    {
     "data": {
      "text/plain": [
       "0.04811507936507937"
      ]
     },
     "execution_count": 34,
     "metadata": {},
     "output_type": "execute_result"
    }
   ],
   "source": [
    "first_image.min()"
   ]
  },
  {
   "cell_type": "code",
   "execution_count": 18,
   "id": "b5902981",
   "metadata": {},
   "outputs": [],
   "source": [
    "# Define early stopping callback\n",
    "early_stopping = EarlyStopping(monitor='val_loss', patience=3, restore_best_weights=True)"
   ]
  },
  {
   "cell_type": "code",
   "execution_count": 22,
   "id": "aa69a37b",
   "metadata": {},
   "outputs": [],
   "source": [
    "from tensorflow.keras.preprocessing.image import ImageDataGenerator\n",
    "\n",
    "# Define ImageDataGenerator for data augmentation\n",
    "train_datagen = ImageDataGenerator(\n",
    "    rescale=1./255,\n",
    "    rotation_range=20,\n",
    "    width_shift_range=0.2,\n",
    "    height_shift_range=0.2,\n",
    "    shear_range=0.2,\n",
    "    zoom_range=0.2,\n",
    "    horizontal_flip=True,\n",
    "    vertical_flip=True,\n",
    "    fill_mode='nearest'\n",
    ")\n",
    "\n",
    "# Normalize and augment the training data\n",
    "train_generator = train_datagen.flow(X_train, y_train, batch_size=32)"
   ]
  },
  {
   "cell_type": "code",
   "execution_count": 35,
   "id": "25a5aff9",
   "metadata": {},
   "outputs": [],
   "source": [
    "model = models.Sequential([\n",
    "    layers.Conv2D(32, (3, 3), activation='relu', input_shape=(512, 512, 1)),\n",
    "    layers.MaxPooling2D((2, 2)),\n",
    "    layers.Conv2D(64, (3, 3), activation='relu'),\n",
    "    layers.MaxPooling2D((2, 2)),\n",
    "    layers.Conv2D(64, (3, 3), activation='relu'),\n",
    "    layers.Flatten(),\n",
    "    layers.Dropout(0.5),\n",
    "    layers.Dense(64, activation='relu'),\n",
    "    layers.Dense(1, activation='sigmoid')\n",
    "])\n",
    "\n",
    "# model = models.Sequential([\n",
    "#     layers.Conv2D(32, (3, 3), activation='relu', input_shape=(512, 512, 1)),\n",
    "#     layers.MaxPooling2D((2, 2)),\n",
    "#     layers.Conv2D(64, (3, 3), activation='relu'),\n",
    "#     layers.MaxPooling2D((2, 2)),\n",
    "#     layers.Conv2D(64, (3, 3), activation='relu'),\n",
    "#     layers.Flatten(),\n",
    "#     layers.Dropout(0.5),\n",
    "#     layers.Dense(64, activation='relu', kernel_regularizer=tf.keras.regularizers.l2(0.01)),\n",
    "#     layers.Dense(1, activation='sigmoid')\n",
    "# ])\n"
   ]
  },
  {
   "cell_type": "code",
   "execution_count": 36,
   "id": "6ed4668d",
   "metadata": {},
   "outputs": [],
   "source": [
    "# Compile the model\n",
    "model.compile(optimizer='adam',\n",
    "              loss='binary_crossentropy',\n",
    "              metrics=['accuracy'])"
   ]
  },
  {
   "cell_type": "code",
   "execution_count": 13,
   "id": "a7f53027",
   "metadata": {},
   "outputs": [
    {
     "name": "stdout",
     "output_type": "stream",
     "text": [
      "Epoch 1/15\n",
      "368/368 [==============================] - 37s 100ms/step - loss: 323.2338 - accuracy: 0.5350 - val_loss: 0.6742 - val_accuracy: 0.5811\n",
      "Epoch 2/15\n",
      "368/368 [==============================] - 37s 101ms/step - loss: 0.6730 - accuracy: 0.5779 - val_loss: 0.6719 - val_accuracy: 0.5780\n",
      "Epoch 3/15\n",
      "368/368 [==============================] - 37s 100ms/step - loss: 0.6346 - accuracy: 0.6199 - val_loss: 0.6971 - val_accuracy: 0.5862\n",
      "Epoch 4/15\n",
      "368/368 [==============================] - 37s 101ms/step - loss: 0.5771 - accuracy: 0.6602 - val_loss: 0.7537 - val_accuracy: 0.5848\n",
      "Epoch 5/15\n",
      "368/368 [==============================] - 37s 100ms/step - loss: 0.5171 - accuracy: 0.6933 - val_loss: 0.7993 - val_accuracy: 0.5848\n",
      "Epoch 6/15\n",
      "368/368 [==============================] - 37s 100ms/step - loss: 0.4694 - accuracy: 0.7201 - val_loss: 0.9709 - val_accuracy: 0.5821\n",
      "Epoch 7/15\n",
      "368/368 [==============================] - 37s 100ms/step - loss: 0.4498 - accuracy: 0.7330 - val_loss: 1.0876 - val_accuracy: 0.5774\n",
      "Epoch 8/15\n",
      "368/368 [==============================] - 37s 100ms/step - loss: 0.4232 - accuracy: 0.7465 - val_loss: 1.4325 - val_accuracy: 0.5780\n",
      "Epoch 9/15\n",
      "368/368 [==============================] - 37s 100ms/step - loss: 0.4134 - accuracy: 0.7500 - val_loss: 1.3571 - val_accuracy: 0.5828\n",
      "Epoch 10/15\n",
      "368/368 [==============================] - 37s 100ms/step - loss: 0.4070 - accuracy: 0.7554 - val_loss: 1.5831 - val_accuracy: 0.5757\n",
      "Epoch 11/15\n",
      "368/368 [==============================] - 37s 100ms/step - loss: 0.4041 - accuracy: 0.7590 - val_loss: 1.3739 - val_accuracy: 0.5740\n",
      "Epoch 12/15\n",
      "368/368 [==============================] - 37s 101ms/step - loss: 0.4005 - accuracy: 0.7605 - val_loss: 1.6550 - val_accuracy: 0.5760\n",
      "Epoch 13/15\n",
      "368/368 [==============================] - 37s 100ms/step - loss: 0.4069 - accuracy: 0.7627 - val_loss: 1.4547 - val_accuracy: 0.5746\n",
      "Epoch 14/15\n",
      "368/368 [==============================] - 37s 100ms/step - loss: 0.3774 - accuracy: 0.7737 - val_loss: 1.9175 - val_accuracy: 0.5675\n",
      "Epoch 15/15\n",
      "368/368 [==============================] - 37s 100ms/step - loss: 0.3803 - accuracy: 0.7747 - val_loss: 2.0605 - val_accuracy: 0.5644\n"
     ]
    },
    {
     "data": {
      "text/plain": [
       "<tensorflow.python.keras.callbacks.History at 0x7f4a1014cb50>"
      ]
     },
     "execution_count": 13,
     "metadata": {},
     "output_type": "execute_result"
    }
   ],
   "source": [
    "# Train the model\n",
    "model.fit(X_train, y_train, epochs=15, batch_size=32, validation_data=(X_test, y_test))\n",
    "\n",
    "# # Train the model with augmented data\n",
    "# model.fit(train_generator, epochs=10, validation_data=(X_test, y_test))"
   ]
  },
  {
   "cell_type": "code",
   "execution_count": null,
   "id": "26a1b466",
   "metadata": {},
   "outputs": [
    {
     "name": "stdout",
     "output_type": "stream",
     "text": [
      "Epoch 1/10\n",
      "368/368 [==============================] - 172s 467ms/step - loss: 0.6932 - accuracy: 0.5027 - val_loss: 0.6789 - val_accuracy: 0.5437\n",
      "Epoch 2/10\n",
      "368/368 [==============================] - 173s 468ms/step - loss: 0.6932 - accuracy: 0.4934 - val_loss: 0.6791 - val_accuracy: 0.5495\n",
      "Epoch 3/10\n",
      "159/368 [===========>..................] - ETA: 1:36 - loss: 0.6932 - accuracy: 0.5010"
     ]
    }
   ],
   "source": [
    "# Train the model with augmented data\n",
    "model.fit(train_generator, epochs=10, validation_data=(X_test, y_test),callbacks=[early_stopping])"
   ]
  },
  {
   "cell_type": "code",
   "execution_count": 38,
   "id": "586a7ff8",
   "metadata": {},
   "outputs": [
    {
     "name": "stdout",
     "output_type": "stream",
     "text": [
      "Epoch 1/10\n",
      "368/368 [==============================] - 22s 60ms/step - loss: 0.6857 - accuracy: 0.5466 - val_loss: 0.6758 - val_accuracy: 0.5451\n",
      "Epoch 2/10\n",
      "368/368 [==============================] - 21s 57ms/step - loss: 0.6626 - accuracy: 0.5903 - val_loss: 0.6804 - val_accuracy: 0.5447\n",
      "Epoch 3/10\n",
      "368/368 [==============================] - 22s 59ms/step - loss: 0.6127 - accuracy: 0.6531 - val_loss: 0.7214 - val_accuracy: 0.5485\n",
      "Epoch 4/10\n",
      "368/368 [==============================] - 21s 57ms/step - loss: 0.5243 - accuracy: 0.7286 - val_loss: 0.8099 - val_accuracy: 0.5556\n"
     ]
    },
    {
     "data": {
      "text/plain": [
       "<tensorflow.python.keras.callbacks.History at 0x7fc4917afbe0>"
      ]
     },
     "execution_count": 38,
     "metadata": {},
     "output_type": "execute_result"
    }
   ],
   "source": [
    "# Train the model\n",
    "model.fit(X_train,\n",
    "          y_train, \n",
    "          epochs=10, \n",
    "          batch_size=32,\n",
    "          validation_data=(X_test, y_test),\n",
    "          verbose=1,\n",
    "          callbacks=[early_stopping])"
   ]
  },
  {
   "cell_type": "code",
   "execution_count": 39,
   "id": "19a38fbc",
   "metadata": {},
   "outputs": [
    {
     "name": "stdout",
     "output_type": "stream",
     "text": [
      "92/92 [==============================] - 2s 25ms/step - loss: 0.6758 - accuracy: 0.5451\n",
      "Test Accuracy: 0.545052707195282\n",
      "True Label: 0.0 Predicted Label: 0.0\n",
      "True Label: 0.0 Predicted Label: 0.0\n",
      "True Label: 1.0 Predicted Label: 0.0\n",
      "True Label: 0.0 Predicted Label: 0.0\n",
      "True Label: 0.0 Predicted Label: 0.0\n",
      "True Label: 1.0 Predicted Label: 1.0\n",
      "True Label: 0.0 Predicted Label: 0.0\n",
      "True Label: 1.0 Predicted Label: 0.0\n",
      "True Label: 1.0 Predicted Label: 0.0\n",
      "True Label: 1.0 Predicted Label: 1.0\n",
      "True Label: 1.0 Predicted Label: 1.0\n",
      "True Label: 0.0 Predicted Label: 1.0\n",
      "True Label: 0.0 Predicted Label: 0.0\n",
      "True Label: 0.0 Predicted Label: 0.0\n",
      "True Label: 0.0 Predicted Label: 0.0\n",
      "True Label: 0.0 Predicted Label: 0.0\n",
      "True Label: 0.0 Predicted Label: 0.0\n",
      "True Label: 0.0 Predicted Label: 0.0\n",
      "True Label: 1.0 Predicted Label: 0.0\n",
      "True Label: 0.0 Predicted Label: 0.0\n",
      "True Label: 1.0 Predicted Label: 0.0\n",
      "True Label: 0.0 Predicted Label: 0.0\n",
      "True Label: 0.0 Predicted Label: 1.0\n",
      "True Label: 0.0 Predicted Label: 0.0\n",
      "True Label: 0.0 Predicted Label: 0.0\n",
      "True Label: 1.0 Predicted Label: 0.0\n",
      "True Label: 0.0 Predicted Label: 1.0\n",
      "True Label: 0.0 Predicted Label: 0.0\n",
      "True Label: 1.0 Predicted Label: 0.0\n",
      "True Label: 0.0 Predicted Label: 1.0\n"
     ]
    }
   ],
   "source": [
    "# Make predictions\n",
    "predictions = model.predict(X_test)\n",
    "\n",
    "# Convert probabilities to binary predictions\n",
    "binary_predictions = np.round(predictions).flatten()\n",
    "\n",
    "# Evaluate the model\n",
    "test_loss, test_acc = model.evaluate(X_test, y_test)\n",
    "print(\"Test Accuracy:\", test_acc)\n",
    "\n",
    "# Print some sample predictions\n",
    "for i in range(30):\n",
    "    print(\"True Label:\", y_test[i], \"Predicted Label:\", binary_predictions[i])\n"
   ]
  },
  {
   "cell_type": "code",
   "execution_count": null,
   "id": "fe5cc336",
   "metadata": {},
   "outputs": [],
   "source": []
  }
 ],
 "metadata": {
  "kernelspec": {
   "display_name": "Python 3 (ipykernel)",
   "language": "python",
   "name": "python3"
  },
  "language_info": {
   "codemirror_mode": {
    "name": "ipython",
    "version": 3
   },
   "file_extension": ".py",
   "mimetype": "text/x-python",
   "name": "python",
   "nbconvert_exporter": "python",
   "pygments_lexer": "ipython3",
   "version": "3.9.7"
  }
 },
 "nbformat": 4,
 "nbformat_minor": 5
}
