{
 "cells": [
  {
   "cell_type": "code",
   "execution_count": 1,
   "id": "cf73888f",
   "metadata": {},
   "outputs": [
    {
     "name": "stderr",
     "output_type": "stream",
     "text": [
      "2024-01-12 13:23:57.125786: I tensorflow/stream_executor/platform/default/dso_loader.cc:53] Successfully opened dynamic library libcudart.so.11.0\n"
     ]
    }
   ],
   "source": [
    "import tensorflow as tf\n",
    "import keras\n",
    "import numpy as np\n",
    "import os\n",
    "import json\n",
    "import cv2\n",
    "from sklearn.model_selection import train_test_split\n",
    "from keras.callbacks import EarlyStopping, ModelCheckpoint\n",
    "import matplotlib.pyplot as plt\n",
    "from sklearn.metrics import confusion_matrix, ConfusionMatrixDisplay"
   ]
  },
  {
   "cell_type": "code",
   "execution_count": 2,
   "id": "01a85d35",
   "metadata": {},
   "outputs": [],
   "source": [
    "train_image_folder = '/raid/mpsych/OMAMA/DATA/data/train'\n",
    "train_npz_folder = '/raid/mpsych/OMAMA/DATA/data/adjusted_2d_512'"
   ]
  },
  {
   "cell_type": "code",
   "execution_count": 3,
   "id": "ecdd2662",
   "metadata": {},
   "outputs": [],
   "source": [
    "# Get lists of image and npz files\n",
    "image_files = [os.path.join(train_image_folder, f) for f in os.listdir(train_image_folder) if f.endswith('.png')]\n",
    "npz_files = [os.path.join(train_npz_folder, f) for f in os.listdir(train_npz_folder) if f.endswith('.npz')]"
   ]
  },
  {
   "cell_type": "code",
   "execution_count": 4,
   "id": "5d907f6e",
   "metadata": {},
   "outputs": [],
   "source": [
    "image_files = image_files[:99999]"
   ]
  },
  {
   "cell_type": "code",
   "execution_count": 5,
   "id": "f69e80db",
   "metadata": {},
   "outputs": [],
   "source": [
    "npz_files = npz_files[:99999]"
   ]
  },
  {
   "cell_type": "code",
   "execution_count": 8,
   "id": "21bdab33",
   "metadata": {},
   "outputs": [],
   "source": [
    "# Split the dataset (adjust the test_size as needed)\n",
    "train_files, test_files = train_test_split(list(zip(image_files, npz_files)), test_size=0.3, random_state=42)\n",
    "val_files, test_files = train_test_split(test_files, test_size=0.5, random_state=42)"
   ]
  },
  {
   "cell_type": "code",
   "execution_count": 9,
   "id": "61fb32cd",
   "metadata": {},
   "outputs": [],
   "source": [
    "img_height = 512\n",
    "img_width = 512\n",
    "batch_size = 32"
   ]
  },
  {
   "cell_type": "code",
   "execution_count": 10,
   "id": "346a1eec",
   "metadata": {},
   "outputs": [],
   "source": [
    "def custom_data_generator(file_list, batch_size, img_height, img_width):\n",
    "    total_files = len(file_list)\n",
    "    indices = np.arange(total_files)\n",
    "    np.random.shuffle(indices)\n",
    "\n",
    "    while True:\n",
    "        for i in range(0, total_files, batch_size):\n",
    "            batch_indices = indices[i:i + batch_size]\n",
    "            batch_images = []\n",
    "            batch_npz = []\n",
    "            batch_labels = []\n",
    "\n",
    "            for idx in batch_indices:\n",
    "                img_file, npz_file = file_list[idx]\n",
    "\n",
    "                # Process image file\n",
    "                image = cv2.imread(img_file, cv2.IMREAD_GRAYSCALE)\n",
    "                image = cv2.resize(image, (img_width, img_height))\n",
    "                image = np.expand_dims(image, axis=-1)\n",
    "                image = image / 255.0 \n",
    "                batch_images.append(image)\n",
    "\n",
    "                # Process npz file\n",
    "                with np.load(npz_file, allow_pickle=True) as data:\n",
    "                    npz = data['data']\n",
    "                npz = np.expand_dims(npz, axis=-1)\n",
    "                if npz.max() != npz.min():\n",
    "                    npz = (npz - npz.min()) / (npz.max() - npz.min())\n",
    "                else:\n",
    "                    npz = npz / npz.max()\n",
    "                \n",
    "                batch_npz.append(npz)\n",
    "\n",
    "                # Assign class labels\n",
    "                if img_file.endswith('.png'):\n",
    "                    label = [1, 0]\n",
    "                elif npz_file.endswith('.npz'):\n",
    "                    label = [0, 1]\n",
    "                else:\n",
    "                    label = [0, 0]\n",
    "                    \n",
    "                batch_labels.append(label)\n",
    "                \n",
    "\n",
    "            combined_batch = np.concatenate((batch_images, batch_npz), axis=-1)\n",
    "            yield (combined_batch, np.array(batch_labels))"
   ]
  },
  {
   "cell_type": "code",
   "execution_count": 11,
   "id": "f02ffc54",
   "metadata": {},
   "outputs": [],
   "source": [
    "early_stopping = EarlyStopping(monitor='val_loss', patience=3, min_delta=0.001, mode='min')"
   ]
  },
  {
   "cell_type": "code",
   "execution_count": 12,
   "id": "6c37c40a",
   "metadata": {},
   "outputs": [],
   "source": [
    "NUMBER_OF_CLASSES = 2"
   ]
  },
  {
   "cell_type": "code",
   "execution_count": 13,
   "id": "9ae232a8",
   "metadata": {},
   "outputs": [],
   "source": [
    "# Create data generators\n",
    "train_generator = custom_data_generator(train_files, batch_size, img_height, img_width)\n",
    "val_generator = custom_data_generator(val_files, batch_size, img_height, img_width)\n",
    "test_generator = custom_data_generator(test_files, batch_size, img_height, img_width)\n"
   ]
  },
  {
   "cell_type": "code",
   "execution_count": 15,
   "id": "01c26e76",
   "metadata": {},
   "outputs": [
    {
     "name": "stdout",
     "output_type": "stream",
     "text": [
      "Model: \"sequential_1\"\n",
      "_________________________________________________________________\n",
      "Layer (type)                 Output Shape              Param #   \n",
      "=================================================================\n",
      "conv2d_3 (Conv2D)            (None, 510, 510, 32)      608       \n",
      "_________________________________________________________________\n",
      "conv2d_4 (Conv2D)            (None, 508, 508, 64)      18496     \n",
      "_________________________________________________________________\n",
      "max_pooling2d_2 (MaxPooling2 (None, 254, 254, 64)      0         \n",
      "_________________________________________________________________\n",
      "dropout_3 (Dropout)          (None, 254, 254, 64)      0         \n",
      "_________________________________________________________________\n",
      "conv2d_5 (Conv2D)            (None, 252, 252, 128)     73856     \n",
      "_________________________________________________________________\n",
      "max_pooling2d_3 (MaxPooling2 (None, 126, 126, 128)     0         \n",
      "_________________________________________________________________\n",
      "dropout_4 (Dropout)          (None, 126, 126, 128)     0         \n",
      "_________________________________________________________________\n",
      "flatten_1 (Flatten)          (None, 2032128)           0         \n",
      "_________________________________________________________________\n",
      "dense_2 (Dense)              (None, 256)               520225024 \n",
      "_________________________________________________________________\n",
      "dropout_5 (Dropout)          (None, 256)               0         \n",
      "_________________________________________________________________\n",
      "dense_3 (Dense)              (None, 2)                 514       \n",
      "=================================================================\n",
      "Total params: 520,318,498\n",
      "Trainable params: 520,318,498\n",
      "Non-trainable params: 0\n",
      "_________________________________________________________________\n"
     ]
    }
   ],
   "source": [
    "# Modify the model for deeper architecture\n",
    "model = keras.models.Sequential()\n",
    "model.add(keras.layers.Conv2D(32, kernel_size=(3, 3), activation='relu', input_shape=(img_height, img_width, 2)))\n",
    "model.add(keras.layers.Conv2D(64, (3, 3), activation='relu'))\n",
    "model.add(keras.layers.MaxPooling2D(pool_size=(2, 2)))\n",
    "model.add(keras.layers.Dropout(0.25))\n",
    "\n",
    "# Additional Convolutional layers\n",
    "model.add(keras.layers.Conv2D(128, (3, 3), activation='relu'))\n",
    "model.add(keras.layers.MaxPooling2D(pool_size=(2, 2)))\n",
    "model.add(keras.layers.Dropout(0.25))\n",
    "\n",
    "# Flatten and Dense layers\n",
    "model.add(keras.layers.Flatten())\n",
    "model.add(keras.layers.Dense(256, activation='relu'))\n",
    "model.add(keras.layers.Dropout(0.5))\n",
    "model.add(keras.layers.Dense(NUMBER_OF_CLASSES, activation='softmax'))\n",
    "model.summary()"
   ]
  },
  {
   "cell_type": "code",
   "execution_count": 16,
   "id": "61232367",
   "metadata": {},
   "outputs": [],
   "source": [
    "model.compile(loss=keras.losses.categorical_crossentropy,\n",
    "              optimizer=\"adadelta\",\n",
    "              metrics=['accuracy'])"
   ]
  },
  {
   "cell_type": "code",
   "execution_count": 17,
   "id": "c9018b9e",
   "metadata": {},
   "outputs": [
    {
     "name": "stderr",
     "output_type": "stream",
     "text": [
      "2024-01-12 13:30:48.044863: I tensorflow/compiler/mlir/mlir_graph_optimization_pass.cc:176] None of the MLIR Optimization Passes are enabled (registered 2)\n",
      "2024-01-12 13:30:48.063172: I tensorflow/core/platform/profile_utils/cpu_utils.cc:114] CPU Frequency: 2245720000 Hz\n",
      "2024-01-12 13:31:01.474056: I tensorflow/stream_executor/platform/default/dso_loader.cc:53] Successfully opened dynamic library libcudnn.so.8\n",
      "2024-01-12 13:31:02.626999: I tensorflow/stream_executor/cuda/cuda_dnn.cc:359] Loaded cuDNN version 8201\n",
      "2024-01-12 13:31:04.201390: W tensorflow/stream_executor/gpu/asm_compiler.cc:191] Falling back to the CUDA driver for PTX compilation; ptxas does not support CC 8.0\n",
      "2024-01-12 13:31:04.201416: W tensorflow/stream_executor/gpu/asm_compiler.cc:194] Used ptxas at ptxas\n",
      "2024-01-12 13:31:04.202393: W tensorflow/stream_executor/gpu/redzone_allocator.cc:314] Unimplemented: ptxas ptxas too old. Falling back to the driver to compile.\n",
      "Relying on driver to perform ptx compilation. \n",
      "Modify $PATH to customize ptxas location.\n",
      "This message will be only logged once.\n",
      "2024-01-12 13:31:20.558664: I tensorflow/stream_executor/platform/default/dso_loader.cc:53] Successfully opened dynamic library libcublas.so.11\n",
      "2024-01-12 13:31:27.015827: I tensorflow/stream_executor/platform/default/dso_loader.cc:53] Successfully opened dynamic library libcublasLt.so.11\n",
      "2024-01-12 13:31:49.449807: I tensorflow/stream_executor/cuda/cuda_blas.cc:1838] TensorFloat-32 will be used for the matrix multiplication. This will only be logged once.\n"
     ]
    },
    {
     "name": "stdout",
     "output_type": "stream",
     "text": [
      "  23/2187 [..............................] - ETA: 15:39 - loss: 0.3774 - accuracy: 0.9087"
     ]
    },
    {
     "name": "stderr",
     "output_type": "stream",
     "text": [
      "/tmp/ipykernel_4021584/386405773.py:30: RuntimeWarning: invalid value encountered in true_divide\n",
      "  npz = npz / npz.max()\n"
     ]
    },
    {
     "name": "stdout",
     "output_type": "stream",
     "text": [
      "2187/2187 [==============================] - 1199s 497ms/step - loss: 0.2091 - accuracy: 0.9979 - val_loss: 6.4376e-04 - val_accuracy: 1.0000\n"
     ]
    }
   ],
   "source": [
    "try:\n",
    "    history = model.fit(\n",
    "        train_generator,\n",
    "        steps_per_epoch=len(train_files) // batch_size,\n",
    "        epochs=1,\n",
    "        validation_data=val_generator,\n",
    "        validation_steps=len(val_files) // batch_size,\n",
    "        verbose=1,\n",
    "        callbacks=[early_stopping]\n",
    "    )\n",
    "except Exception as e:\n",
    "    print(\"An error occurred during training:\", str(e))"
   ]
  },
  {
   "cell_type": "code",
   "execution_count": 35,
   "id": "4517b54e",
   "metadata": {},
   "outputs": [
    {
     "data": {
      "image/png": "[encoded data removed]",
      "text/plain": [
       "<Figure size 432x288 with 1 Axes>"
      ]
     },
     "metadata": {
      "needs_background": "light"
     },
     "output_type": "display_data"
    },
    {
     "data": {
      "image/png": "[encoded data removed]",
      "text/plain": [
       "<Figure size 432x288 with 1 Axes>"
      ]
     },
     "metadata": {
      "needs_background": "light"
     },
     "output_type": "display_data"
    },
    {
     "data": {
      "image/png": "[encoded data removed]",
      "text/plain": [
       "<Figure size 432x288 with 1 Axes>"
      ]
     },
     "metadata": {
      "needs_background": "light"
     },
     "output_type": "display_data"
    }
   ],
   "source": [
    "for i in range(3):\n",
    "    test_sample, test_labels = next(test_generator)\n",
    "    predictions = model.predict(test_sample)\n",
    "    \n",
    "    # Select an index from the batch to visualize\n",
    "    sample_index = 1\n",
    "\n",
    "    # Display the predicted label\n",
    "    plt.subplot(2, 3, i+1)\n",
    "    predicted_label = np.argmax(predictions[sample_index])\n",
    "    actual_label = np.argmax(test_labels[sample_index])\n",
    "    plt.title(f\"Predicted Label: {predicted_label}, Actual Label: {actual_label}\")\n",
    "    plt.imshow(test_sample[sample_index, :, :, 0], cmap='gray') \n",
    "    plt.axis('off')\n",
    "\n",
    "    plt.tight_layout()\n",
    "    plt.show()\n",
    "# 0 for Synthetic and 1 for original"
   ]
  },
  {
   "cell_type": "code",
   "execution_count": null,
   "id": "51a72fc8",
   "metadata": {},
   "outputs": [],
   "source": []
  }
 ],
 "metadata": {
  "kernelspec": {
   "display_name": "Python 3 (ipykernel)",
   "language": "python",
   "name": "python3"
  },
  "language_info": {
   "codemirror_mode": {
    "name": "ipython",
    "version": 3
   },
   "file_extension": ".py",
   "mimetype": "text/x-python",
   "name": "python",
   "nbconvert_exporter": "python",
   "pygments_lexer": "ipython3",
   "version": "3.9.7"
  }
 },
 "nbformat": 4,
 "nbformat_minor": 5
}
