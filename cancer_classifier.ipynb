{
 "cells": [
  {
   "cell_type": "code",
   "execution_count": 1,
   "id": "979b314d",
   "metadata": {},
   "outputs": [
    {
     "name": "stderr",
     "output_type": "stream",
     "text": [
      "2024-04-05 14:15:51.206631: I tensorflow/stream_executor/platform/default/dso_loader.cc:53] Successfully opened dynamic library libcudart.so.11.0\n"
     ]
    }
   ],
   "source": [
    "import tensorflow as tf\n",
    "import keras\n",
    "import numpy as np\n",
    "import os\n",
    "import json\n",
    "import cv2\n",
    "from sklearn.model_selection import train_test_split\n",
    "from keras.callbacks import EarlyStopping, ModelCheckpoint\n",
    "import matplotlib.pyplot as plt\n",
    "from sklearn.metrics import confusion_matrix, ConfusionMatrixDisplay\n",
    "from tensorflow.keras.utils import to_categorical\n",
    "from sklearn.preprocessing import MinMaxScaler\n",
    "from keras.losses import categorical_crossentropy\n",
    "from tensorflow.keras.optimizers import Adam"
   ]
  },
  {
   "cell_type": "code",
   "execution_count": 2,
   "id": "287da60e",
   "metadata": {},
   "outputs": [],
   "source": [
    "cancer_folder = '/raid/mpsych/OMAMA/DATA/data/2d_512_cancer'\n",
    "noncancer_folder = '/raid/mpsych/OMAMA/DATA/data/2d_512_Noncancer'"
   ]
  },
  {
   "cell_type": "code",
   "execution_count": 3,
   "id": "8c992551",
   "metadata": {},
   "outputs": [],
   "source": [
    "cancer_files = [os.path.join(cancer_folder, f) for f in os.listdir(cancer_folder) if f.endswith('.npz')]\n",
    "noncancer_files = [os.path.join(noncancer_folder, f) for f in os.listdir(noncancer_folder) if f.endswith('.npz')]"
   ]
  },
  {
   "cell_type": "code",
   "execution_count": 4,
   "id": "af29f878",
   "metadata": {},
   "outputs": [
    {
     "data": {
      "text/plain": [
       "7351"
      ]
     },
     "execution_count": 4,
     "metadata": {},
     "output_type": "execute_result"
    }
   ],
   "source": [
    "len(cancer_files)"
   ]
  },
  {
   "cell_type": "code",
   "execution_count": 5,
   "id": "8806d88a",
   "metadata": {},
   "outputs": [
    {
     "data": {
      "text/plain": [
       "154238"
      ]
     },
     "execution_count": 5,
     "metadata": {},
     "output_type": "execute_result"
    }
   ],
   "source": [
    "len(noncancer_files)"
   ]
  },
  {
   "cell_type": "code",
   "execution_count": 6,
   "id": "29622834",
   "metadata": {},
   "outputs": [],
   "source": [
    "noncancer_files = noncancer_files[:7351]"
   ]
  },
  {
   "cell_type": "code",
   "execution_count": 7,
   "id": "03d08c5b",
   "metadata": {},
   "outputs": [
    {
     "data": {
      "text/plain": [
       "7351"
      ]
     },
     "execution_count": 7,
     "metadata": {},
     "output_type": "execute_result"
    }
   ],
   "source": [
    "len(noncancer_files)"
   ]
  },
  {
   "cell_type": "code",
   "execution_count": 8,
   "id": "b0437171",
   "metadata": {},
   "outputs": [],
   "source": [
    "# Split the dataset (adjust the test_size as needed)\n",
    "train_files, test_files = train_test_split(list(zip(cancer_files, noncancer_files)), test_size=0.3, random_state=42)\n",
    "val_files, test_files = train_test_split(test_files, test_size=0.5, random_state=42)"
   ]
  },
  {
   "cell_type": "code",
   "execution_count": 9,
   "id": "8f98e7c1",
   "metadata": {},
   "outputs": [
    {
     "data": {
      "text/plain": [
       "5145"
      ]
     },
     "execution_count": 9,
     "metadata": {},
     "output_type": "execute_result"
    }
   ],
   "source": [
    "len(train_files)"
   ]
  },
  {
   "cell_type": "code",
   "execution_count": 10,
   "id": "db6e17aa",
   "metadata": {},
   "outputs": [
    {
     "data": {
      "text/plain": [
       "1103"
      ]
     },
     "execution_count": 10,
     "metadata": {},
     "output_type": "execute_result"
    }
   ],
   "source": [
    "len(test_files)"
   ]
  },
  {
   "cell_type": "code",
   "execution_count": 11,
   "id": "8b25470a",
   "metadata": {},
   "outputs": [
    {
     "data": {
      "text/plain": [
       "1103"
      ]
     },
     "execution_count": 11,
     "metadata": {},
     "output_type": "execute_result"
    }
   ],
   "source": [
    "len(val_files)"
   ]
  },
  {
   "cell_type": "code",
   "execution_count": 12,
   "id": "733c5434",
   "metadata": {},
   "outputs": [],
   "source": [
    "def load_npz_files(folder):\n",
    "    features = []\n",
    "    labels = []\n",
    "    files = os.listdir(folder)\n",
    "    for file in files:\n",
    "        if file.endswith('.npz'):\n",
    "            npz_path = os.path.join(folder, file)\n",
    "            data = np.load(npz_path)\n",
    "            # Extract features (replace this with your actual feature extraction method)\n",
    "            feature_vector = data['data']\n",
    "            features.append(feature_vector)\n",
    "            # Label based on folder\n",
    "            if folder == cancer_folder:\n",
    "                labels.append(1)  # Cancer\n",
    "            else:\n",
    "                labels.append(0)  # Non-cancer\n",
    "    return features, labels"
   ]
  },
  {
   "cell_type": "code",
   "execution_count": 13,
   "id": "feb91d7a",
   "metadata": {},
   "outputs": [],
   "source": [
    "# cancer, cancer_labels = load_npz_files(cancer_folder)\n",
    "# noncancer, noncancer_labels = load_npz_files(noncancer_folder)"
   ]
  },
  {
   "cell_type": "code",
   "execution_count": null,
   "id": "3ce22dec",
   "metadata": {},
   "outputs": [],
   "source": [
    "# Load NPZ files\n",
    "cancer_features, cancer_labels = load_npz_files(cancer_folder)\n",
    "noncancer_features, noncancer_labels = load_npz_files(noncancer_folder)\n",
    "\n",
    "# Combine cancer and non-cancer data\n",
    "X = np.concatenate([cancer_features, noncancer_features], axis=0)\n",
    "y = np.concatenate([cancer_labels, noncancer_labels], axis=0)\n",
    "\n",
    "# Split the data into training, validation, and test sets\n",
    "X_train, X_test, y_train, y_test = train_test_split(X, y, test_size=0.3, random_state=42)\n",
    "X_val, X_test, y_val, y_test = train_test_split(X_test, y_test, test_size=0.5, random_state=42)\n",
    "\n",
    "# Define the model\n",
    "model = models.Sequential([\n",
    "    layers.Dense(128, activation='relu', input_shape=(X_train.shape[1],)),\n",
    "    layers.Dropout(0.5),\n",
    "    layers.Dense(64, activation='relu'),\n",
    "    layers.Dropout(0.5),\n",
    "    layers.Dense(1, activation='sigmoid')\n",
    "])\n",
    "\n",
    "# Compile the model\n",
    "model.compile(optimizer='adam',\n",
    "              loss='binary_crossentropy',\n",
    "              metrics=['accuracy'])\n",
    "\n",
    "# Define callbacks\n",
    "early_stopping = callbacks.EarlyStopping(patience=5, monitor='val_loss', restore_best_weights=True)\n",
    "\n",
    "# Train the model\n",
    "history = model.fit(X_train, y_train, epochs=20, batch_size=32, validation_data=(X_val, y_val), callbacks=[early_stopping])\n",
    "\n",
    "# Evaluate the model\n",
    "test_loss, test_acc = model.evaluate(X_test, y_test)\n",
    "\n",
    "print(\"Test Accuracy:\", test_acc)\n",
    "\n",
    "# Plot training history\n",
    "plt.plot(history.history['accuracy'], label='accuracy')\n",
    "plt.plot(history.history['val_accuracy'], label='val_accuracy')\n",
    "plt.xlabel('Epoch')\n",
    "plt.ylabel('Accuracy')\n",
    "plt.ylim([0, 1])\n",
    "plt.legend(loc='lower right')\n",
    "plt.show()"
   ]
  },
  {
   "cell_type": "code",
   "execution_count": null,
   "id": "983f1c89",
   "metadata": {},
   "outputs": [],
   "source": []
  }
 ],
 "metadata": {
  "kernelspec": {
   "display_name": "Python 3 (ipykernel)",
   "language": "python",
   "name": "python3"
  },
  "language_info": {
   "codemirror_mode": {
    "name": "ipython",
    "version": 3
   },
   "file_extension": ".py",
   "mimetype": "text/x-python",
   "name": "python",
   "nbconvert_exporter": "python",
   "pygments_lexer": "ipython3",
   "version": "3.9.7"
  }
 },
 "nbformat": 4,
 "nbformat_minor": 5
}
