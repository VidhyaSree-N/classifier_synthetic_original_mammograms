{
 "cells": [
  {
   "cell_type": "code",
   "execution_count": 1,
   "id": "a69e24b3",
   "metadata": {},
   "outputs": [
    {
     "name": "stdout",
     "output_type": "stream",
     "text": [
      "Files saved to respective folders.\n"
     ]
    }
   ],
   "source": [
    "import os\n",
    "import json\n",
    "import shutil\n",
    "\n",
    "npz_folder = '/raid/mpsych/OMAMA/DATA/data/2d_resized_512/images'\n",
    "json_folder = '/raid/mpsych/OMAMA/DATA/data/2d/metadata/'\n",
    "\n",
    "def read_json(file_path):\n",
    "    with open(file_path, 'r') as f:\n",
    "        data = json.load(f)\n",
    "    return data\n",
    "\n",
    "def classify_npz_files():\n",
    "\n",
    "    json_files = os.listdir(json_folder)\n",
    "    for json_file in json_files:\n",
    "        if not json_file.endswith('.json'):\n",
    "            continue\n",
    "        json_data = read_json(os.path.join(json_folder, json_file))\n",
    "     \n",
    "        label = json_data['label']\n",
    "        filename = json_file.replace('.json', '.npz')\n",
    "\n",
    "        npz_file_path = os.path.join(npz_folder, filename)\n",
    "        if os.path.exists(npz_file_path):\n",
    "            if label == 'NonCancer':\n",
    "                dest_folder = '/raid/mpsych/OMAMA/DATA/data/2d_512_Noncancer'\n",
    "            elif label == 'Unknown':\n",
    "                dest_folder = '/raid/mpsych/OMAMA/DATA/data/2d_512_unknown'\n",
    "            else:\n",
    "                dest_folder = '/raid/mpsych/OMAMA/DATA/data/2d_512_cancer'\n",
    "\n",
    "            shutil.copy(npz_file_path, dest_folder)\n",
    "        else:\n",
    "            print(f\"NPZ file corresponding to {json_file} not found.\")\n",
    "\n",
    "classify_npz_files()\n",
    "\n",
    "print(\"Files saved to respective folders.\")\n"
   ]
  },
  {
   "cell_type": "code",
   "execution_count": 10,
   "id": "5a5a380b",
   "metadata": {},
   "outputs": [],
   "source": [
    "cancer_folder = '/raid/mpsych/OMAMA/DATA/data/2d_512_cancer'\n",
    "noncancer_folder = '/raid/mpsych/OMAMA/DATA/data/2d_512_Noncancer'\n",
    "unknown_folder = '/raid/mpsych/OMAMA/DATA/data/2d_512_unknown'"
   ]
  },
  {
   "cell_type": "code",
   "execution_count": 13,
   "id": "0f296ada",
   "metadata": {},
   "outputs": [
    {
     "name": "stdout",
     "output_type": "stream",
     "text": [
      "Number of NPZ files in each folder:\n",
      "Cancer Files: 7351\n",
      "Non-Cancer Files: 154238\n",
      "Unknown Files: 1979\n",
      "Total Files in dataset: 163568\n"
     ]
    }
   ],
   "source": [
    "def count_npz_files(folder_path):\n",
    "    if os.path.exists(folder_path):\n",
    "        npz_files = [file for file in os.listdir(folder_path) if file.endswith('.npz')]\n",
    "        return len(npz_files)\n",
    "    else:\n",
    "        return 0\n",
    "\n",
    "cancer_count = count_npz_files(cancer_folder)\n",
    "noncancer_count = count_npz_files(noncancer_folder)\n",
    "unknown_count = count_npz_files(unknown_folder)\n",
    "total_count = count_npz_files(npz_folder)\n",
    "\n",
    "print(\"Number of NPZ files in each folder:\")\n",
    "print(f\"Cancer Files: {cancer_count}\")\n",
    "print(f\"Non-Cancer Files: {noncancer_count}\")\n",
    "print(f\"Unknown Files: {unknown_count}\")\n",
    "\n",
    "print(f\"Total Files in dataset: {total_count}\")"
   ]
  },
  {
   "cell_type": "code",
   "execution_count": null,
   "id": "2d3c4b2b",
   "metadata": {},
   "outputs": [],
   "source": []
  }
 ],
 "metadata": {
  "kernelspec": {
   "display_name": "Python 3 (ipykernel)",
   "language": "python",
   "name": "python3"
  },
  "language_info": {
   "codemirror_mode": {
    "name": "ipython",
    "version": 3
   },
   "file_extension": ".py",
   "mimetype": "text/x-python",
   "name": "python",
   "nbconvert_exporter": "python",
   "pygments_lexer": "ipython3",
   "version": "3.9.7"
  }
 },
 "nbformat": 4,
 "nbformat_minor": 5
}
